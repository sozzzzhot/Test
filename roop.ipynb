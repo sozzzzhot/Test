{
  "nbformat": 4,
  "nbformat_minor": 0,
  "metadata": {
    "colab": {
      "provenance": [],
      "gpuType": "T4"
    },
    "kernelspec": {
      "name": "python3",
      "display_name": "Python 3"
    },
    "language_info": {
      "name": "python"
    },
    "accelerator": "GPU"
  },
  "cells": [
    {
      "cell_type": "code",
      "source": [
        "#@markdown 第一步点我\n",
        "from IPython.display import clear_output\n",
        "# 第一次使用将roop以及视频下载到google drive中\n",
        "from google.colab import drive\n",
        "drive.mount('/content/drive')\n",
        "%cd /content/drive/MyDrive\n",
        "# check if directory exist\n",
        "import os\n",
        "isExist = os.path.isdir('rp')\n",
        "if not isExist:\n",
        "  !git clone https://github.com/sozzzzhot/rp\n",
        "  %cd rp\n",
        "  !pip install onnxruntime-gpu && pip install -r requirements.txt\n",
        "  !wget https://huggingface.co/MonsterMMORPG/SECourses/resolve/main/inswapper_128.onnx\n",
        "else:\n",
        "  %cd rp\n",
        "  !pip install onnxruntime-gpu && pip install -r requirements.txt\n",
        "clear_output()\n",
        "!echo \"完成\"\n",
        "\n",
        "# 下载一些素材视频"
      ],
      "metadata": {
        "cellView": "form",
        "id": "xRDGxt4Ev3NT",
        "outputId": "4bdd449f-b9ef-4dd8-ce33-4f7bcda7ad14",
        "colab": {
          "base_uri": "https://localhost:8080/",
          "height": 1000
        }
      },
      "execution_count": null,
      "outputs": [
        {
          "output_type": "stream",
          "name": "stdout",
          "text": [
            "完成\n"
          ]
        }
      ]
    },
    {
      "cell_type": "code",
      "source": [
        "#@markdown <strong>文件夹为rp,使用面部修复会慢很多</strong>\n",
        "\n",
        "#@markdown 图片文件名\n",
        "使用面部修复= False # @param {type:\"boolean\"}\n",
        "face=\"photo_2023-07-03_15-51-00.jpg\"#@param {type:\"string\"}\n",
        "#@markdown 视频文件名\n",
        "video=\"video_2023-07-03_15-49-17.mp4\"#@param {type:\"string\"}\n",
        "if 使用面部修复:\n",
        "  !python run.py -s $face -t $video -o out.mp4  --keep-frames --keep-fps  --execution-provider cuda --frame-processor face_swapper face_enhancer\n",
        "else:\n",
        "  !python run.py -s $face -t $video -o out.mp4  --keep-frames --keep-fps  --execution-provider cuda"
      ],
      "metadata": {
        "id": "OiL6sWeDzeD_",
        "cellView": "form"
      },
      "execution_count": null,
      "outputs": []
    },
    {
      "cell_type": "code",
      "source": [
        "#@markdown 图片文件名\n",
        "使用面部修复= False # @param {type:\"boolean\"}\n",
        "face=\"photo_2023-06-30_22-46-24.jpg\"#@param {type:\"string\"}\n",
        "#@markdown 被替换图片文件名\n",
        "swap =\"photo_2023-07-03_15-51-00.jpg\"#@param {type:\"string\"}\n",
        "if 使用面部修复:\n",
        "  !python run.py -s $face -t $swap -o out.jpg  --keep-frames --keep-fps  --execution-provider cuda --frame-processor face_swapper face_enhancer\n",
        "else:\n",
        "  !python run.py -s $face -t $swap -o out.jpg  --keep-frames --keep-fps --execution-provider cuda"
      ],
      "metadata": {
        "cellView": "form",
        "id": "K1gbG5HhtSfH"
      },
      "execution_count": null,
      "outputs": []
    }
  ]
}
