{
  "nbformat": 4,
  "nbformat_minor": 0,
  "metadata": {
    "colab": {
      "provenance": [],
      "gpuType": "T4"
    },
    "kernelspec": {
      "name": "python3",
      "display_name": "Python 3"
    },
    "language_info": {
      "name": "python"
    },
    "accelerator": "GPU"
  },
  "cells": [
    {
      "cell_type": "code",
      "source": [
        "#@markdown 第一步点我\n",
        "from IPython.display import clear_output\n",
        "# 第一次使用将roop以及视频下载到google drive中\n",
        "from google.colab import drive\n",
        "drive.mount('/content/drive')\n",
        "%cd /content/drive/MyDrive\n",
        "# check if directory exist\n",
        "import os\n",
        "isExist = os.path.isdir('roop')\n",
        "if not isExist:\n",
        "  !git clone https://github.com/s0md3v/roop\n",
        "  %cd roop\n",
        "  !git checkout e4f1d9aaff43549667f7c81c6f48a86606fb9b95\n",
        "  !pip install onnxruntime-gpu && pip install -r requirements.txt\n",
        "  !wget https://huggingface.co/MonsterMMORPG/SECourses/resolve/main/inswapper_128.onnx\n",
        "else:\n",
        "  %cd roop\n",
        "  !pip install onnxruntime-gpu && pip install -r requirements.txt\n",
        "clear_output()\n",
        "!echo \"完成\"\n",
        "\n",
        "# 下载一些素材视频"
      ],
      "metadata": {
        "cellView": "form",
        "id": "xRDGxt4Ev3NT",
        "outputId": "21814aa7-42b3-4545-edfe-d83d75e8d1d0",
        "colab": {
          "base_uri": "https://localhost:8080/"
        }
      },
      "execution_count": 2,
      "outputs": [
        {
          "output_type": "stream",
          "name": "stdout",
          "text": [
            "完成\n"
          ]
        }
      ]
    },
    {
      "cell_type": "code",
      "source": [
        "!git checkout e4f1d9aaff43549667f7c81c6f48a86606fb9b95 --force\n",
        "#@markdown 图片文件名\n",
        "face=\"photo_2023-06-30_22-46-24.jpg\"#@param {type:\"string\"}\n",
        "#@markdown 视频文件名\n",
        "video=\"photo_2023-07-03_15-51-00.jpg\"#@param {type:\"string\"}\n",
        "!pwd\n",
        "!python run.py -f $face -t $video -o out.mp4  --keep-frames --keep-fps --gpu"
      ],
      "metadata": {
        "id": "OiL6sWeDzeD_",
        "cellView": "form"
      },
      "execution_count": null,
      "outputs": []
    },
    {
      "cell_type": "code",
      "source": [
        "!git checkout e4f1d9aaff43549667f7c81c6f48a86606fb9b95 --force\n",
        "#@markdown 图片文件名\n",
        "face=\"photo_2023-06-30_22-46-24.jpg\"#@param {type:\"string\"}\n",
        "#@markdown 被替换图片文件名\n",
        "swap =\"photo_2023-07-03_15-51-00.jpg\"#@param {type:\"string\"}\n",
        "!pwd\n",
        "!python run.py -f $face -t $swap -o out.jpg  --keep-frames --keep-fps --gpu"
      ],
      "metadata": {
        "cellView": "form",
        "id": "K1gbG5HhtSfH"
      },
      "execution_count": null,
      "outputs": []
    }
  ]
}
